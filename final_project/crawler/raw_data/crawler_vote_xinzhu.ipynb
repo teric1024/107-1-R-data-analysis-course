{
 "cells": [
  {
   "cell_type": "code",
   "execution_count": 61,
   "metadata": {},
   "outputs": [],
   "source": [
    "import requests\n",
    "res = requests.get('http://vote.2018.nat.gov.tw/pc/zh_TW/IDX/index701.html')"
   ]
  },
  {
   "cell_type": "code",
   "execution_count": 60,
   "metadata": {},
   "outputs": [],
   "source": [
    "from selenium import webdriver\n",
    "driver = webdriver.Chrome('/Applications/chromedriver')\n",
    "driver.get('http://vote.2018.nat.gov.tw/pc/zh_TW/IDX/index701.html')"
   ]
  },
  {
   "cell_type": "code",
   "execution_count": 62,
   "metadata": {},
   "outputs": [
    {
     "name": "stdout",
     "output_type": "stream",
     "text": [
      "http://vote.2018.nat.gov.tw/pc/zh_TW/TC/nm10004000100000000.html\n",
      "http://vote.2018.nat.gov.tw/pc/zh_TW/TC/nm10004000200000000.html\n",
      "http://vote.2018.nat.gov.tw/pc/zh_TW/TC/nm10004000300000000.html\n",
      "http://vote.2018.nat.gov.tw/pc/zh_TW/TC/nm10004000400000000.html\n",
      "http://vote.2018.nat.gov.tw/pc/zh_TW/TC/nm10004000500000000.html\n",
      "http://vote.2018.nat.gov.tw/pc/zh_TW/TC/nm10004000600000000.html\n",
      "http://vote.2018.nat.gov.tw/pc/zh_TW/TC/nm10004000700000000.html\n",
      "http://vote.2018.nat.gov.tw/pc/zh_TW/TC/nm10004000800000000.html\n",
      "http://vote.2018.nat.gov.tw/pc/zh_TW/TC/nm10004000900000000.html\n",
      "http://vote.2018.nat.gov.tw/pc/zh_TW/TC/nm10004001000000000.html\n",
      "http://vote.2018.nat.gov.tw/pc/zh_TW/TC/nm10004001100000000.html\n",
      "http://vote.2018.nat.gov.tw/pc/zh_TW/TC/nm10004001200000000.html\n",
      "http://vote.2018.nat.gov.tw/pc/zh_TW/TC/nm10004001300000000.html\n",
      "http://vote.2018.nat.gov.tw/pc/zh_TW/PV/m10004000100000000.html\n",
      "http://vote.2018.nat.gov.tw/pc/zh_TW/PV/m10004000200000000.html\n",
      "http://vote.2018.nat.gov.tw/pc/zh_TW/PV/m10004000300000000.html\n",
      "http://vote.2018.nat.gov.tw/pc/zh_TW/PV/m10004000400000000.html\n",
      "http://vote.2018.nat.gov.tw/pc/zh_TW/PV/m10004000500000000.html\n",
      "http://vote.2018.nat.gov.tw/pc/zh_TW/PV/m10004000600000000.html\n",
      "http://vote.2018.nat.gov.tw/pc/zh_TW/PV/m10004000700000000.html\n",
      "http://vote.2018.nat.gov.tw/pc/zh_TW/PV/m10004000800000000.html\n",
      "http://vote.2018.nat.gov.tw/pc/zh_TW/PV/m10004000900000000.html\n",
      "http://vote.2018.nat.gov.tw/pc/zh_TW/PV/m10004001000000000.html\n",
      "http://vote.2018.nat.gov.tw/pc/zh_TW/PV/m10004001100000000.html\n",
      "http://vote.2018.nat.gov.tw/pc/zh_TW/PV/m10004001200000000.html\n",
      "http://vote.2018.nat.gov.tw/pc/zh_TW/PV/m10004001300000000.html\n"
     ]
    }
   ],
   "source": [
    "from bs4 import BeautifulSoup\n",
    "soup = BeautifulSoup(driver.page_source, 'lxml')\n",
    "links = soup.select('div[id^=item] a')\n",
    "domain = 'http://vote.2018.nat.gov.tw/pc/zh_TW'\n",
    "data_select = [\"PV\" in ele.get('href').strip('.') or \"TC\" in ele.get('href').strip('.') for ele in links]\n",
    "getdata = []\n",
    "for i in range(len(links)):\n",
    "    if (data_select[i] == True):\n",
    "        getdata.append(domain + links[i].get('href').strip('.'))\n",
    "for ele in getdata:\n",
    "    print(ele)"
   ]
  },
  {
   "cell_type": "code",
   "execution_count": 64,
   "metadata": {},
   "outputs": [
    {
     "data": {
      "text/html": [
       "<div>\n",
       "<style scoped>\n",
       "    .dataframe tbody tr th:only-of-type {\n",
       "        vertical-align: middle;\n",
       "    }\n",
       "\n",
       "    .dataframe tbody tr th {\n",
       "        vertical-align: top;\n",
       "    }\n",
       "\n",
       "    .dataframe thead th {\n",
       "        text-align: right;\n",
       "    }\n",
       "</style>\n",
       "<table border=\"1\" class=\"dataframe\">\n",
       "  <thead>\n",
       "    <tr style=\"text-align: right;\">\n",
       "      <th>1</th>\n",
       "      <th>註記</th>\n",
       "      <th>號次</th>\n",
       "      <th>姓名</th>\n",
       "      <th>性別</th>\n",
       "      <th>得票數</th>\n",
       "      <th>得票率</th>\n",
       "      <th>推薦之政黨</th>\n",
       "    </tr>\n",
       "  </thead>\n",
       "  <tbody>\n",
       "    <tr>\n",
       "      <th>2</th>\n",
       "      <td>◎</td>\n",
       "      <td>1</td>\n",
       "      <td>楊文科</td>\n",
       "      <td>男</td>\n",
       "      <td>27664</td>\n",
       "      <td>33.50%</td>\n",
       "      <td>中國國民黨</td>\n",
       "    </tr>\n",
       "    <tr>\n",
       "      <th>3</th>\n",
       "      <td>NaN</td>\n",
       "      <td>2</td>\n",
       "      <td>葉芳棟</td>\n",
       "      <td>男</td>\n",
       "      <td>1901</td>\n",
       "      <td>2.30%</td>\n",
       "      <td>無</td>\n",
       "    </tr>\n",
       "    <tr>\n",
       "      <th>4</th>\n",
       "      <td>NaN</td>\n",
       "      <td>3</td>\n",
       "      <td>鄭朝方</td>\n",
       "      <td>男</td>\n",
       "      <td>21725</td>\n",
       "      <td>26.31%</td>\n",
       "      <td>民主進步黨</td>\n",
       "    </tr>\n",
       "    <tr>\n",
       "      <th>5</th>\n",
       "      <td>NaN</td>\n",
       "      <td>4</td>\n",
       "      <td>徐欣瑩</td>\n",
       "      <td>女</td>\n",
       "      <td>31292</td>\n",
       "      <td>37.89%</td>\n",
       "      <td>民國黨</td>\n",
       "    </tr>\n",
       "  </tbody>\n",
       "</table>\n",
       "</div>"
      ],
      "text/plain": [
       "1   註記 號次   姓名 性別    得票數     得票率  推薦之政黨\n",
       "2    ◎  1  楊文科  男  27664  33.50%  中國國民黨\n",
       "3  NaN  2  葉芳棟  男   1901   2.30%      無\n",
       "4  NaN  3  鄭朝方  男  21725  26.31%  民主進步黨\n",
       "5  NaN  4  徐欣瑩  女  31292  37.89%    民國黨"
      ]
     },
     "execution_count": 64,
     "metadata": {},
     "output_type": "execute_result"
    }
   ],
   "source": [
    "import pandas\n",
    "dfs = pandas.read_html(getdata[0])\n",
    "votes = dfs[1]\n",
    "votes.columns = votes.loc[1]\n",
    "votes.drop([0,1], inplace=True)\n",
    "drop = [ '投開票所' in i for i in votes['號次'] ]\n",
    "drop = drop.index(True) +2\n",
    "votes.drop([drop], inplace = True)\n",
    "votes"
   ]
  },
  {
   "cell_type": "code",
   "execution_count": 66,
   "metadata": {},
   "outputs": [],
   "source": [
    "driver.get('http://vote.2018.nat.gov.tw/pc/zh_TW/IDX/index701.html')\n",
    "domain = 'http://vote.2018.nat.gov.tw/pc/zh_TW'\n",
    "results = []\n",
    "soup = BeautifulSoup(driver.page_source, 'lxml')\n",
    "links = soup.select('div[id^=item] a')"
   ]
  },
  {
   "cell_type": "code",
   "execution_count": null,
   "metadata": {},
   "outputs": [],
   "source": []
  }
 ],
 "metadata": {
  "kernelspec": {
   "display_name": "Python 3",
   "language": "python",
   "name": "python3"
  },
  "language_info": {
   "codemirror_mode": {
    "name": "ipython",
    "version": 3
   },
   "file_extension": ".py",
   "mimetype": "text/x-python",
   "name": "python",
   "nbconvert_exporter": "python",
   "pygments_lexer": "ipython3",
   "version": "3.6.6"
  }
 },
 "nbformat": 4,
 "nbformat_minor": 2
}
